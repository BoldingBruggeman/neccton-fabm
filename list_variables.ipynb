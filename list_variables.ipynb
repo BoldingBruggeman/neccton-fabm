{
 "cells": [
  {
   "cell_type": "code",
   "execution_count": null,
   "metadata": {},
   "outputs": [],
   "source": [
    "import pyfabm"
   ]
  },
  {
   "cell_type": "code",
   "execution_count": null,
   "metadata": {},
   "outputs": [],
   "source": [
    "fabm_yaml = \"fabm/testcases/fabm-nersc-ecosmo.yaml\"\n",
    "\n",
    "model = pyfabm.Model(fabm_yaml)\n",
    "\n",
    "print(\"State variables:\")\n",
    "for var in model.state_variables:\n",
    "    print(f\"  {var.name}: {var.long_name} ({var.units})\")\n",
    "\n",
    "print(\"Diagnostic variables:\")\n",
    "for var in model.diagnostic_variables:\n",
    "    if var.output:\n",
    "        print(f\"  {var.name}: {var.long_name} ({var.units})\")\n",
    "\n",
    "print(\"Dependencies:\")\n",
    "for var in model.dependencies:\n",
    "    print(f\"  {var.name}: {var.long_name} ({var.units})\")\n",
    "\n",
    "print(\"Parameters:\")\n",
    "for var in model.parameters:\n",
    "    print(f\"  {var.name}: {var.long_name} = {var.value} {var.units}\")"
   ]
  },
  {
   "cell_type": "code",
   "execution_count": null,
   "metadata": {},
   "outputs": [],
   "source": []
  }
 ],
 "metadata": {
  "interpreter": {
   "hash": "97ae724bfa85b9b34df7982b8bb8c7216f435b92902d749e4263f71162bea840"
  },
  "kernelspec": {
   "display_name": "Python 3 (ipykernel)",
   "language": "python",
   "name": "python3"
  },
  "language_info": {
   "codemirror_mode": {
    "name": "ipython",
    "version": 3
   },
   "file_extension": ".py",
   "mimetype": "text/x-python",
   "name": "python",
   "nbconvert_exporter": "python",
   "pygments_lexer": "ipython3",
   "version": "3.10.11"
  }
 },
 "nbformat": 4,
 "nbformat_minor": 4
}
