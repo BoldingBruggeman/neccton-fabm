{
 "cells": [
  {
   "cell_type": "code",
   "execution_count": null,
   "id": "ec91df5e-6ba8-4eeb-a52a-dfdc96bd9a2c",
   "metadata": {},
   "outputs": [],
   "source": [
    "import os\n",
    "import glob\n",
    "\n",
    "# Note: \"%matplotlib widget\" below enables interactive plots but requires https://github.com/matplotlib/ipympl\n",
    "# Alternatively you could use \"%matplotlib notebook\" (interactive but deprecated) or \"%matplotlib inline\" (static plots)\n",
    "%matplotlib widget\n",
    "from matplotlib import pyplot\n",
    "import ipywidgets\n",
    "import numpy as np\n",
    "\n",
    "import pyfabm"
   ]
  },
  {
   "cell_type": "code",
   "execution_count": null,
   "id": "9199aa18-6f14-4b6c-99c8-f2fc446640a2",
   "metadata": {},
   "outputs": [],
   "source": [
    "# Settings\n",
    "fabm_yaml = \"fabm/testcases/fabm-nersc-ecosmo.yaml\"\n",
    "\n",
    "xname = \"temperature\"\n",
    "xvalues = np.linspace(0.0, 40.0, 100)\n",
    "yname = \"CO2/CO2_flux\"\n",
    "\n",
    "bottom_depth = 10\n",
    "default_environment = {\n",
    "    'temperature': 15,\n",
    "    'practical_salinity': 35,\n",
    "    'surface_downwelling_shortwave_flux': 50,\n",
    "    'surface_downwelling_photosynthetic_radiative_flux': 25,\n",
    "    'downwelling_photosynthetic_radiative_flux': 10,\n",
    "    'density': 1020,\n",
    "    'mole_fraction_of_carbon_dioxide_in_air': 414.2,\n",
    "    'wind_speed': 2.0,\n",
    "    'bottom_depth': bottom_depth,\n",
    "    'depth': 0.5*bottom_depth,\n",
    "    'pressure': 0.5*bottom_depth,\n",
    "    'cell_thickness': bottom_depth\n",
    "}"
   ]
  },
  {
   "cell_type": "code",
   "execution_count": null,
   "id": "833e02ca-c905-4a65-9f9e-6fc1e1137341",
   "metadata": {},
   "outputs": [],
   "source": [
    "model = pyfabm.Model(fabm_yaml)\n",
    "\n",
    "model.cell_thickness = bottom_depth\n",
    "for variable in model.dependencies:\n",
    "    variable.value = default_environment.get(variable.name, 0.0)\n",
    "\n",
    "# Initialize model (this also verifies that all dependencies have been fulfilled)\n",
    "assert model.start(), 'Model failed to start: %s' % pyfabm.getError()\n",
    "    "
   ]
  },
  {
   "cell_type": "code",
   "execution_count": null,
   "id": "dcf55ee4-3a76-4fd7-a2a9-48d3410b17c5",
   "metadata": {},
   "outputs": [],
   "source": [
    "yvar = model.diagnostic_variables.find(yname)\n",
    "xvar = model.dependencies.find(xname)\n",
    "yvalues = np.empty_like(xvalues)\n",
    "for i, x in enumerate(xvalues):\n",
    "    xvar.value = x\n",
    "    model.getRates()\n",
    "    yvalues[i] = yvar.value"
   ]
  },
  {
   "cell_type": "code",
   "execution_count": null,
   "id": "e96bd64e-299b-4f5f-a659-1b10386e821b",
   "metadata": {},
   "outputs": [],
   "source": [
    "fig, ax = pyplot.subplots()\n",
    "ax.plot(xvalues, yvalues, '-')\n",
    "ax.grid()\n",
    "ax.set_xlabel(f\"{xvar.long_name} ({xvar.units})\");\n",
    "ax.set_ylabel(f\"{yvar.long_name} ({yvar.units})\");\n",
    "fig.tight_layout()"
   ]
  },
  {
   "cell_type": "code",
   "execution_count": null,
   "id": "75f93dcb-0680-4a40-8ba4-a785d380830b",
   "metadata": {},
   "outputs": [],
   "source": [
    "# reset environment variable that we were varying\n",
    "xvar.value = default_environment.get(xname, 0.0)\n",
    "\n",
    "xname = \"ECO/alfaPs\"\n",
    "yname = \"ECO/primprod\"\n",
    "xvalues = np.linspace(0.0, 0.1, 100)\n",
    "\n",
    "xvar = model.parameters.find(xname)\n",
    "\n",
    "yvalues = np.empty_like(xvalues)\n",
    "for i, x in enumerate(xvalues):\n",
    "    xvar.value = x\n",
    "\n",
    "    # changes in parameter values require the model to be restarted\n",
    "    model.start()\n",
    "    yvar = model.diagnostic_variables.find(yname)\n",
    "\n",
    "    model.getRates()\n",
    "    yvalues[i] = yvar.value"
   ]
  },
  {
   "cell_type": "code",
   "execution_count": null,
   "id": "5590590e-5de6-4e57-9d75-48a3805f2a08",
   "metadata": {},
   "outputs": [],
   "source": [
    "fig, ax = pyplot.subplots()\n",
    "ax.plot(xvalues, yvalues, '-')\n",
    "ax.grid()\n",
    "ax.set_xlabel(f\"{xvar.long_name} ({xvar.units})\");\n",
    "ax.set_ylabel(f\"{yvar.long_name} ({yvar.units})\");\n",
    "fig.tight_layout()"
   ]
  },
  {
   "cell_type": "code",
   "execution_count": null,
   "id": "4c8475cb-82d6-4f74-854d-eff862a8e098",
   "metadata": {},
   "outputs": [],
   "source": []
  }
 ],
 "metadata": {
  "kernelspec": {
   "display_name": "Python 3 (ipykernel)",
   "language": "python",
   "name": "python3"
  },
  "language_info": {
   "codemirror_mode": {
    "name": "ipython",
    "version": 3
   },
   "file_extension": ".py",
   "mimetype": "text/x-python",
   "name": "python",
   "nbconvert_exporter": "python",
   "pygments_lexer": "ipython3",
   "version": "3.10.11"
  }
 },
 "nbformat": 4,
 "nbformat_minor": 5
}
