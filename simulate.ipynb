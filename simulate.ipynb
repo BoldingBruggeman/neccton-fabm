{
 "cells": [
  {
   "cell_type": "markdown",
   "metadata": {},
   "source": [
    "This notebook requires pyfabm.\n",
    "For instructions on how to build and install pyfabm, see https://github.com/fabm-model/fabm/wiki/python"
   ]
  },
  {
   "cell_type": "code",
   "execution_count": null,
   "metadata": {},
   "outputs": [],
   "source": [
    "import os\n",
    "import glob\n",
    "\n",
    "# Note: \"%matplotlib widget\" below enables interactive plots but requires https://github.com/matplotlib/ipympl\n",
    "# Alternatively you could use \"%matplotlib notebook\" (interactive but deprecated) or \"%matplotlib inline\" (static plots)\n",
    "%matplotlib widget\n",
    "from matplotlib import pyplot\n",
    "import ipywidgets\n",
    "import numpy as np\n",
    "import scipy.integrate\n",
    "\n",
    "import pyfabm"
   ]
  },
  {
   "cell_type": "code",
   "execution_count": null,
   "metadata": {},
   "outputs": [],
   "source": [
    "# Settings\n",
    "fabm_yaml = 'fabm/testcases/fabm-nersc-ecosmo.yaml'\n",
    "\n",
    "bottom_depth = 10\n",
    "default_environment = {\n",
    "    'temperature': 15,\n",
    "    'practical_salinity': 35,\n",
    "    'surface_downwelling_shortwave_flux': 50,\n",
    "    'surface_downwelling_photosynthetic_radiative_flux': 25,\n",
    "    'downwelling_photosynthetic_radiative_flux': 10,\n",
    "    'density': 1020,\n",
    "    'mole_fraction_of_carbon_dioxide_in_air': 414.2,\n",
    "    'wind_speed': 2.0,\n",
    "    'bottom_depth': bottom_depth,\n",
    "    'depth': 0.5*bottom_depth,\n",
    "    'pressure': 0.5*bottom_depth,\n",
    "    'cell_thickness': bottom_depth\n",
    "}"
   ]
  },
  {
   "cell_type": "code",
   "execution_count": null,
   "metadata": {
    "tags": []
   },
   "outputs": [],
   "source": [
    "# Initialize the biogeochemical model (this reads fabm.yaml)\n",
    "model = pyfabm.Model(fabm_yaml)"
   ]
  },
  {
   "cell_type": "code",
   "execution_count": null,
   "metadata": {
    "tags": []
   },
   "outputs": [],
   "source": [
    "# Present configurable environmental conditions\n",
    "model.cell_thickness = bottom_depth  # cell thickness in m, used by getRates to scale surface and bottom fluxes\n",
    "labels, inputs, units = [], [], []\n",
    "for variable in model.dependencies:\n",
    "    labels.append(ipywidgets.Label('%s:' % variable.long_name))\n",
    "    inputs.append(ipywidgets.FloatText(value=default_environment.get(variable.name, 0.), layout={'width': '7em'}))\n",
    "    units.append(ipywidgets.Label('%s' % variable.units))\n",
    "display(ipywidgets.HBox((\n",
    "    ipywidgets.VBox([ipywidgets.HTML('<b>Variable</b>')] + labels),\n",
    "    ipywidgets.VBox([ipywidgets.HTML('<b>Value</b>')] + inputs),\n",
    "    ipywidgets.VBox([ipywidgets.HTML('<b>Units</b>')] + units)\n",
    ")))"
   ]
  },
  {
   "cell_type": "code",
   "execution_count": null,
   "metadata": {},
   "outputs": [],
   "source": [
    "# Transfer environmental conditions to model\n",
    "for variable, widget in zip(model.dependencies, inputs):\n",
    "    variable.value = widget.value\n",
    "\n",
    "# Initialize model (this also verifies that all dependencies have been fulfilled)\n",
    "assert model.start(), 'Model failed to start: %s' % pyfabm.getError()"
   ]
  },
  {
   "cell_type": "code",
   "execution_count": null,
   "metadata": {},
   "outputs": [],
   "source": [
    "# Time integration with scipy - by default variable time step Runge-Kutta 4(5)\n",
    "\n",
    "# Time derivative\n",
    "def dy(t, y):\n",
    "    model.state[:] = y\n",
    "    return model.getRates(t)\n",
    "\n",
    "# Time-integrate over 200 days (note: FABM's internal time unit is seconds!)\n",
    "t = np.arange(0, 365.0, 1) * 86400\n",
    "result = scipy.integrate.solve_ivp(dy, [t[0], t[-1]], model.state, t_eval=t)"
   ]
  },
  {
   "cell_type": "code",
   "execution_count": null,
   "metadata": {
    "tags": []
   },
   "outputs": [],
   "source": [
    "# Plot results\n",
    "pyplot.ioff()\n",
    "fig, ax = pyplot.subplots()\n",
    "line, = ax.plot(result.t / 86400, result.y[0, :])\n",
    "ax.grid()\n",
    "ax.set_xlabel(\"time (d)\")\n",
    "\n",
    "def update(variable):\n",
    "    v = model.state_variables[variable]\n",
    "    line.set_ydata(result.y[variable, :])\n",
    "    ax.set_ylabel(f\"{v.long_name} ({v.units})\")\n",
    "    ax.set_title(v.long_name)\n",
    "    ax.relim()\n",
    "    ax.autoscale()\n",
    "    fig.canvas.draw()\n",
    "dropdown = ipywidgets.interactive(update, variable=[(variable.long_path, i) for i, variable in enumerate(model.state_variables)])\n",
    "display(dropdown)\n",
    "fig.show()"
   ]
  },
  {
   "cell_type": "code",
   "execution_count": null,
   "metadata": {},
   "outputs": [],
   "source": []
  },
  {
   "cell_type": "code",
   "execution_count": null,
   "metadata": {},
   "outputs": [],
   "source": [
    "# Backup: manual Forward Euler integration, fixed dt\n",
    "dt = 3600.\n",
    "t = np.arange(365 * 86400 / dt)\n",
    "y = np.empty((t.size, model.state.size))\n",
    "y[0, :] = model.state\n",
    "for i, time in enumerate(t):\n",
    "    sources = model.getRates(time)\n",
    "    model.state += sources * dt\n",
    "    y[i, :] = model.state\n",
    "from collections import namedtuple\n",
    "intresulttype = namedtuple('intresult', ['t', 'y'])\n",
    "result = intresulttype(t=t, y=y.T)"
   ]
  },
  {
   "cell_type": "code",
   "execution_count": null,
   "metadata": {},
   "outputs": [],
   "source": []
  }
 ],
 "metadata": {
  "kernelspec": {
   "display_name": "Python 3 (ipykernel)",
   "language": "python",
   "name": "python3"
  },
  "language_info": {
   "codemirror_mode": {
    "name": "ipython",
    "version": 3
   },
   "file_extension": ".py",
   "mimetype": "text/x-python",
   "name": "python",
   "nbconvert_exporter": "python",
   "pygments_lexer": "ipython3",
   "version": "3.10.11"
  }
 },
 "nbformat": 4,
 "nbformat_minor": 4
}
